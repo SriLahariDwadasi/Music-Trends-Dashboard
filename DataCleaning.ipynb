{
 "cells": [
  {
   "cell_type": "code",
   "execution_count": null,
   "metadata": {},
   "outputs": [
    {
     "name": "stderr",
     "output_type": "stream",
     "text": [
      "<>:4: SyntaxWarning: invalid escape sequence '\\C'\n",
      "<>:4: SyntaxWarning: invalid escape sequence '\\C'\n",
      "C:\\Users\\91799\\AppData\\Local\\Temp\\ipykernel_20032\\3994453693.py:4: SyntaxWarning: invalid escape sequence '\\C'\n",
      "  file_path = \"C:\\Code\\Music trends dashboard\\dataset.csv\"\n"
     ]
    },
    {
     "name": "stdout",
     "output_type": "stream",
     "text": [
      "<class 'pandas.core.frame.DataFrame'>\n",
      "RangeIndex: 114000 entries, 0 to 113999\n",
      "Data columns (total 21 columns):\n",
      " #   Column            Non-Null Count   Dtype  \n",
      "---  ------            --------------   -----  \n",
      " 0   Unnamed: 0        114000 non-null  int64  \n",
      " 1   track_id          114000 non-null  object \n",
      " 2   artists           113999 non-null  object \n",
      " 3   album_name        113999 non-null  object \n",
      " 4   track_name        113999 non-null  object \n",
      " 5   popularity        114000 non-null  int64  \n",
      " 6   duration_ms       114000 non-null  int64  \n",
      " 7   explicit          114000 non-null  bool   \n",
      " 8   danceability      114000 non-null  float64\n",
      " 9   energy            114000 non-null  float64\n",
      " 10  key               114000 non-null  int64  \n",
      " 11  loudness          114000 non-null  float64\n",
      " 12  mode              114000 non-null  int64  \n",
      " 13  speechiness       114000 non-null  float64\n",
      " 14  acousticness      114000 non-null  float64\n",
      " 15  instrumentalness  114000 non-null  float64\n",
      " 16  liveness          114000 non-null  float64\n",
      " 17  valence           114000 non-null  float64\n",
      " 18  tempo             114000 non-null  float64\n",
      " 19  time_signature    114000 non-null  int64  \n",
      " 20  track_genre       114000 non-null  object \n",
      "dtypes: bool(1), float64(9), int64(6), object(5)\n",
      "memory usage: 17.5+ MB\n"
     ]
    },
    {
     "data": {
      "text/plain": [
       "(None,\n",
       "    Unnamed: 0                track_id                 artists  \\\n",
       " 0           0  5SuOikwiRyPMVoIQDJUgSV             Gen Hoshino   \n",
       " 1           1  4qPNDBW1i3p13qLCt0Ki3A            Ben Woodward   \n",
       " 2           2  1iJBSr7s7jYXzM8EGcbK5b  Ingrid Michaelson;ZAYN   \n",
       " 3           3  6lfxq3CG4xtTiEg7opyCyx            Kina Grannis   \n",
       " 4           4  5vjLSffimiIP26QG5WcN2K        Chord Overstreet   \n",
       " \n",
       "                                           album_name  \\\n",
       " 0                                             Comedy   \n",
       " 1                                   Ghost (Acoustic)   \n",
       " 2                                     To Begin Again   \n",
       " 3  Crazy Rich Asians (Original Motion Picture Sou...   \n",
       " 4                                            Hold On   \n",
       " \n",
       "                    track_name  popularity  duration_ms  explicit  \\\n",
       " 0                      Comedy          73       230666     False   \n",
       " 1            Ghost - Acoustic          55       149610     False   \n",
       " 2              To Begin Again          57       210826     False   \n",
       " 3  Can't Help Falling In Love          71       201933     False   \n",
       " 4                     Hold On          82       198853     False   \n",
       " \n",
       "    danceability  energy  ...  loudness  mode  speechiness  acousticness  \\\n",
       " 0         0.676  0.4610  ...    -6.746     0       0.1430        0.0322   \n",
       " 1         0.420  0.1660  ...   -17.235     1       0.0763        0.9240   \n",
       " 2         0.438  0.3590  ...    -9.734     1       0.0557        0.2100   \n",
       " 3         0.266  0.0596  ...   -18.515     1       0.0363        0.9050   \n",
       " 4         0.618  0.4430  ...    -9.681     1       0.0526        0.4690   \n",
       " \n",
       "    instrumentalness  liveness  valence    tempo  time_signature  track_genre  \n",
       " 0          0.000001    0.3580    0.715   87.917               4     acoustic  \n",
       " 1          0.000006    0.1010    0.267   77.489               4     acoustic  \n",
       " 2          0.000000    0.1170    0.120   76.332               4     acoustic  \n",
       " 3          0.000071    0.1320    0.143  181.740               3     acoustic  \n",
       " 4          0.000000    0.0829    0.167  119.949               4     acoustic  \n",
       " \n",
       " [5 rows x 21 columns])"
      ]
     },
     "execution_count": 1,
     "metadata": {},
     "output_type": "execute_result"
    }
   ],
   "source": [
    "import pandas as pd\n",
    "import ast \n",
    "import re\n",
    "import matplotlib.pyplot as plt\n",
    "from textblob import TextBlob\n",
    "\n",
    "\n",
    "# Load the dataset\n",
    "file_path = \"C:\\Code\\Music trends dashboard\\dataset.csv\"\n",
    "df = pd.read_csv(file_path)\n",
    "\n",
    "# Display basic info and first few rows\n",
    "df.info(), df.head()"
   ]
  },
  {
   "cell_type": "code",
   "execution_count": 2,
   "metadata": {},
   "outputs": [
    {
     "name": "stdout",
     "output_type": "stream",
     "text": [
      "<class 'pandas.core.frame.DataFrame'>\n",
      "Index: 113999 entries, 0 to 113999\n",
      "Data columns (total 20 columns):\n",
      " #   Column            Non-Null Count   Dtype  \n",
      "---  ------            --------------   -----  \n",
      " 0   track_id          113999 non-null  object \n",
      " 1   artists           113999 non-null  object \n",
      " 2   album_name        113999 non-null  object \n",
      " 3   track_name        113999 non-null  object \n",
      " 4   popularity        113999 non-null  int64  \n",
      " 5   duration_ms       113999 non-null  int64  \n",
      " 6   explicit          113999 non-null  bool   \n",
      " 7   danceability      113999 non-null  float64\n",
      " 8   energy            113999 non-null  float64\n",
      " 9   key               113999 non-null  int64  \n",
      " 10  loudness          113999 non-null  float64\n",
      " 11  mode              113999 non-null  int64  \n",
      " 12  speechiness       113999 non-null  float64\n",
      " 13  acousticness      113999 non-null  float64\n",
      " 14  instrumentalness  113999 non-null  float64\n",
      " 15  liveness          113999 non-null  float64\n",
      " 16  valence           113999 non-null  float64\n",
      " 17  tempo             113999 non-null  float64\n",
      " 18  time_signature    113999 non-null  int64  \n",
      " 19  track_genre       113999 non-null  object \n",
      "dtypes: bool(1), float64(9), int64(5), object(5)\n",
      "memory usage: 17.5+ MB\n"
     ]
    }
   ],
   "source": [
    "# Drop the unnecessary column\n",
    "df_cleaned = df.drop(columns=[\"Unnamed: 0\"])\n",
    "\n",
    "# Drop rows with missing values in critical columns (only 1 missing row)\n",
    "df_cleaned = df_cleaned.dropna(subset=[\"artists\", \"album_name\", \"track_name\"])\n",
    "\n",
    "# Standardize text fields (remove trailing spaces, lowercase for consistency)\n",
    "df_cleaned[\"artists\"] = df_cleaned[\"artists\"].str.strip()\n",
    "df_cleaned[\"album_name\"] = df_cleaned[\"album_name\"].str.strip()\n",
    "df_cleaned[\"track_name\"] = df_cleaned[\"track_name\"].str.strip()\n",
    "df_cleaned[\"track_genre\"] = df_cleaned[\"track_genre\"].str.lower()\n",
    "\n",
    "# Display cleaned dataset info\n",
    "df_cleaned.info()\n"
   ]
  },
  {
   "cell_type": "code",
   "execution_count": null,
   "metadata": {},
   "outputs": [
    {
     "name": "stdout",
     "output_type": "stream",
     "text": [
      "Nodes Dataset Info:\n",
      "<class 'pandas.core.frame.DataFrame'>\n",
      "RangeIndex: 156422 entries, 0 to 156421\n",
      "Data columns (total 6 columns):\n",
      " #   Column      Non-Null Count   Dtype  \n",
      "---  ------      --------------   -----  \n",
      " 0   spotify_id  156422 non-null  object \n",
      " 1   name        156418 non-null  object \n",
      " 2   followers   156418 non-null  float64\n",
      " 3   popularity  156422 non-null  int64  \n",
      " 4   genres      156422 non-null  object \n",
      " 5   chart_hits  19641 non-null   object \n",
      "dtypes: float64(1), int64(1), object(4)\n",
      "memory usage: 7.2+ MB\n",
      "None \n",
      "\n",
      "               spotify_id                name  followers  popularity  \\\n",
      "0  48WvrUGoijadXXCsGocwM4           Byklubben     1738.0          24   \n",
      "1  4lDiJcOJ2GLCK6p9q5BgfK            Kontra K  1999676.0          72   \n",
      "2  652XIvIBNGg3C0KIGEJWit               Maxim    34596.0          36   \n",
      "3  3dXC1YPbnQPsfHPVkm1ipj  Christopher Martin   249233.0          52   \n",
      "4  74terC9ol9zMo8rfzhSOiG       Jakob Hellman    21193.0          39   \n",
      "\n",
      "                                              genres  \\\n",
      "0                     ['nordic house', 'russelater']   \n",
      "1             ['christlicher rap', 'german hip hop']   \n",
      "2                                                 []   \n",
      "3  ['dancehall', 'lovers rock', 'modern reggae', ...   \n",
      "4  ['classic swedish pop', 'norrbotten indie', 's...   \n",
      "\n",
      "                                          chart_hits  \n",
      "0                                         ['no (3)']  \n",
      "1  ['at (44)', 'de (111)', 'lu (22)', 'ch (31)', ...  \n",
      "2                                         ['de (1)']  \n",
      "3                               ['at (1)', 'de (1)']  \n",
      "4                                         ['se (6)']  \n",
      "\n",
      "Edges Dataset Info:\n",
      "<class 'pandas.core.frame.DataFrame'>\n",
      "RangeIndex: 300386 entries, 0 to 300385\n",
      "Data columns (total 2 columns):\n",
      " #   Column  Non-Null Count   Dtype \n",
      "---  ------  --------------   ----- \n",
      " 0   id_0    300386 non-null  object\n",
      " 1   id_1    300386 non-null  object\n",
      "dtypes: object(2)\n",
      "memory usage: 4.6+ MB\n",
      "None \n",
      "\n",
      "                     id_0                    id_1\n",
      "0  76M2Ekj8bG8W7X2nbx2CpF  7sfl4Xt5KmfyDs2T3SVSMK\n",
      "1  0hk4xVujcyOr6USD95wcWb  7Do8se3ZoaVqUt3woqqSrD\n",
      "2  38jpuy3yt3QIxQ8Fn1HTeJ  4csQIMQm6vI2A2SCVDuM2z\n",
      "3  6PvcxssrQ0QaJVaBWHD07l  6UCQYrcJ6wab6gnQ89OJFh\n",
      "4  2R1QrQqWuw3IjoP5dXRFjt  4mk1ScvOUkuQzzCZpT6bc0\n",
      "✅ Cleaned artist datasets saved as 'cleaned_artist_nodes.csv' and 'cleaned_artist_edges.csv'.\n"
     ]
    }
   ],
   "source": [
    "\n",
    "# Load datasets\n",
    "nodes_path = \"artist_nodes.csv\"\n",
    "edges_path = \"artist_edges.csv\"\n",
    "\n",
    "df_nodes = pd.read_csv(nodes_path)\n",
    "df_edges = pd.read_csv(edges_path)\n",
    "\n",
    "# Inspect Data\n",
    "print(\"Nodes Dataset Info:\")\n",
    "print(df_nodes.info(), \"\\n\")\n",
    "print(df_nodes.head())\n",
    "\n",
    "print(\"\\nEdges Dataset Info:\")\n",
    "print(df_edges.info(), \"\\n\")\n",
    "print(df_edges.head())\n",
    "\n",
    "# Handle missing values\n",
    "df_nodes = df_nodes.dropna()\n",
    "df_edges = df_edges.dropna()\n",
    "\n",
    "# Convert genre strings into actual lists\n",
    "df_nodes[\"genres\"] = df_nodes[\"genres\"].apply(lambda x: ast.literal_eval(x) if isinstance(x, str) and x.startswith(\"[\") else [])\n",
    "\n",
    "# Standardize text formatting\n",
    "df_nodes[\"name\"] = df_nodes[\"name\"].str.lower().str.strip()\n",
    "df_edges[\"id_0\"] = df_edges[\"id_0\"].str.lower().str.strip()\n",
    "df_edges[\"id_1\"] = df_edges[\"id_1\"].str.lower().str.strip()\n",
    "\n",
    "# Remove duplicate edges\n",
    "df_edges = df_edges.drop_duplicates()\n",
    "\n",
    "# Save cleaned files\n",
    "df_nodes.to_csv(\"cleaned_artist_nodes.csv\", index=False)\n",
    "df_edges.to_csv(\"cleaned_artist_edges.csv\", index=False)\n",
    "\n",
    "print(\"Cleaned artist datasets saved as 'cleaned_artist_nodes.csv' and 'cleaned_artist_edges.csv'.\")"
   ]
  },
  {
   "cell_type": "code",
   "execution_count": null,
   "metadata": {},
   "outputs": [
    {
     "name": "stdout",
     "output_type": "stream",
     "text": [
      "Lyrics Dataset Info:\n",
      "<class 'pandas.core.frame.DataFrame'>\n",
      "RangeIndex: 25742 entries, 0 to 25741\n",
      "Data columns (total 5 columns):\n",
      " #   Column      Non-Null Count  Dtype \n",
      "---  ------      --------------  ----- \n",
      " 0   Unnamed: 0  25742 non-null  int64 \n",
      " 1   link        25742 non-null  object\n",
      " 2   artist      25742 non-null  object\n",
      " 3   song_name   25742 non-null  object\n",
      " 4   lyrics      25742 non-null  object\n",
      "dtypes: int64(1), object(4)\n",
      "memory usage: 1005.7+ KB\n",
      "None \n",
      "\n",
      "   Unnamed: 0                                            link  \\\n",
      "0           0  ../lyrics/backstreetboys/climbingthewalls.html   \n",
      "1           1        ../lyrics/westlife/howtobreakaheart.html   \n",
      "2           2                 ../lyrics/deanmartin/iwill.html   \n",
      "3           3   ../lyrics/deanmartin/tellyourmotherhello.html   \n",
      "4           4        ../lyrics/deanmartin/behonestwithme.html   \n",
      "\n",
      "                   artist               song_name  \\\n",
      "0  Backstreet Boys Lyrics      Climbing The Walls   \n",
      "1         Westlife Lyrics    How To Break A Heart   \n",
      "2      Dean Martin Lyrics                  I Will   \n",
      "3      Dean Martin Lyrics  Tell Your Mother Hello   \n",
      "4      Dean Martin Lyrics       Be Honest With Me   \n",
      "\n",
      "                                              lyrics  \n",
      "0  \\n\\n[Brian:]\\nClose your eyes, make a wish\\nTh...  \n",
      "1  \\n\\r\\nSince you're not worth my love\\nI haven'...  \n",
      "2  \\n\\r\\nI don't want to be the one to say I'm go...  \n",
      "3  \\n\\r\\nSure I loved the dear money that shines ...  \n",
      "4  \\n\\r\\nBe honest with me dear whatever you do\\n...  \n",
      "✅ Cleaned lyrics dataset saved as 'cleaned_song_lyrics.csv'.\n"
     ]
    }
   ],
   "source": [
    "\n",
    "# Load dataset\n",
    "lyrics_path = \"song_lyrics.csv\"\n",
    "df_lyrics = pd.read_csv(lyrics_path)\n",
    "\n",
    "# Inspect data\n",
    "print(\"Lyrics Dataset Info:\")\n",
    "print(df_lyrics.info(), \"\\n\")\n",
    "print(df_lyrics.head())\n",
    "\n",
    "# Drop rows with missing lyrics\n",
    "df_lyrics = df_lyrics.dropna(subset=[\"lyrics\"]) \n",
    "\n",
    "# Standardize text formatting\n",
    "df_lyrics[\"song_name\"] = df_lyrics[\"song_name\"].str.lower().str.strip()\n",
    "df_lyrics[\"artist\"] = df_lyrics[\"artist\"].str.lower().str.strip()\n",
    "df_lyrics[\"lyrics\"] = df_lyrics[\"lyrics\"].str.lower().str.strip()\n",
    "\n",
    "# Remove special characters, numbers, and extra spaces from lyrics\n",
    "df_lyrics[\"lyrics\"] = df_lyrics[\"lyrics\"].apply(lambda x: re.sub(r\"[^a-z\\s]\", \"\", x))\n",
    "\n",
    "\n",
    "\n",
    "print(\"Cleaned lyrics dataset saved as 'cleaned_song_lyrics.csv'.\")"
   ]
  },
  {
   "cell_type": "code",
   "execution_count": null,
   "metadata": {},
   "outputs": [
    {
     "name": "stdout",
     "output_type": "stream",
     "text": [
      "Collecting textblob\n",
      "  Downloading textblob-0.19.0-py3-none-any.whl.metadata (4.4 kB)\n",
      "Requirement already satisfied: nltk>=3.9 in c:\\users\\91799\\appdata\\local\\programs\\python\\python312\\lib\\site-packages (from textblob) (3.9.1)\n",
      "Requirement already satisfied: click in c:\\users\\91799\\appdata\\local\\programs\\python\\python312\\lib\\site-packages (from nltk>=3.9->textblob) (8.1.7)\n",
      "Requirement already satisfied: joblib in c:\\users\\91799\\appdata\\local\\programs\\python\\python312\\lib\\site-packages (from nltk>=3.9->textblob) (1.4.2)\n",
      "Requirement already satisfied: regex>=2021.8.3 in c:\\users\\91799\\appdata\\local\\programs\\python\\python312\\lib\\site-packages (from nltk>=3.9->textblob) (2024.11.6)\n",
      "Requirement already satisfied: tqdm in c:\\users\\91799\\appdata\\local\\programs\\python\\python312\\lib\\site-packages (from nltk>=3.9->textblob) (4.67.1)\n",
      "Requirement already satisfied: colorama in c:\\users\\91799\\appdata\\local\\programs\\python\\python312\\lib\\site-packages (from click->nltk>=3.9->textblob) (0.4.6)\n",
      "Downloading textblob-0.19.0-py3-none-any.whl (624 kB)\n",
      "   ---------------------------------------- 0.0/624.3 kB ? eta -:--:--\n",
      "   --------------------------------------- 624.3/624.3 kB 22.6 MB/s eta 0:00:00\n",
      "Installing collected packages: textblob\n",
      "Successfully installed textblob-0.19.0\n"
     ]
    },
    {
     "name": "stderr",
     "output_type": "stream",
     "text": [
      "\n",
      "[notice] A new release of pip is available: 24.2 -> 25.0.1\n",
      "[notice] To update, run: python.exe -m pip install --upgrade pip\n"
     ]
    },
    {
     "data": {
      "image/png": "[encoded data removed]",
      "text/plain": [
       "<Figure size 600x400 with 1 Axes>"
      ]
     },
     "metadata": {},
     "output_type": "display_data"
    },
    {
     "name": "stdout",
     "output_type": "stream",
     "text": [
      "✅ Sentiment analysis completed. Results saved in 'lyrics_with_sentiment.csv'.\n"
     ]
    }
   ],
   "source": [
    "\n",
    "# Load cleaned lyrics dataset\n",
    "lyrics_path = \"cleaned_song_lyrics.csv\"  \n",
    "df_lyrics = pd.read_csv(lyrics_path)\n",
    "\n",
    "# Define a function to analyze sentiment\n",
    "def get_sentiment(text):\n",
    "    analysis = TextBlob(str(text))  # Convert to string (handle NaN cases)\n",
    "    polarity = analysis.sentiment.polarity  # Sentiment score (-1 to 1)\n",
    "    if polarity > 0:\n",
    "        return \"Positive\"\n",
    "    elif polarity < 0:\n",
    "        return \"Negative\"\n",
    "    else:\n",
    "        return \"Neutral\"\n",
    "\n",
    "# Apply sentiment analysis to lyrics\n",
    "df_lyrics[\"sentiment\"] = df_lyrics[\"lyrics\"].apply(get_sentiment)\n",
    "\n",
    "# Count sentiment distribution\n",
    "sentiment_counts = df_lyrics[\"sentiment\"].value_counts()\n",
    "\n",
    "# Plot sentiment distribution\n",
    "plt.figure(figsize=(6, 4))\n",
    "sentiment_counts.plot(kind=\"bar\", color=[\"green\", \"red\", \"gray\"])\n",
    "plt.title(\"Sentiment Distribution in Song Lyrics\")\n",
    "plt.xlabel(\"Sentiment\")\n",
    "plt.ylabel(\"Number of Songs\")\n",
    "plt.xticks(rotation=0)\n",
    "plt.show()\n",
    "\n",
    "# Save the dataset with sentiment labels\n",
    "df_lyrics.to_csv(\"lyrics_with_sentiment.csv\", index=False)\n",
    "\n",
    "print(\"Sentiment analysis completed. Results saved in 'lyrics_with_sentiment.csv'.\")"
   ]
  },
  {
   "cell_type": "code",
   "execution_count": null,
   "metadata": {},
   "outputs": [
    {
     "name": "stdout",
     "output_type": "stream",
     "text": [
      "✅ Merge successful! Saved as 'final_corrected_dataset.csv'.\n"
     ]
    }
   ],
   "source": [
    "# Load datasets\n",
    "lyrics_path = \"lyrics_with_sentiment.csv\"\n",
    "artist_nodes_path = \"artist_nodes.csv\"\n",
    "\n",
    "df_lyrics = pd.read_csv(lyrics_path)\n",
    "df_nodes = pd.read_csv(artist_nodes_path)\n",
    "\n",
    "# Step 1: Standardize artist names for fast merging\n",
    "df_lyrics[\"artist\"] = df_lyrics[\"artist\"].str.replace(\" lyrics\", \"\", regex=False).str.lower().str.strip()\n",
    "df_nodes[\"name\"] = df_nodes[\"name\"].str.lower().str.strip()\n",
    "\n",
    "# Step 2: Merge using exact matches (super fast!)\n",
    "df_final = df_lyrics.merge(df_nodes, left_on=\"artist\", right_on=\"name\", how=\"left\")\n",
    "\n",
    "# Step 3: Save final dataset\n",
    "df_final.to_csv(\"final_corrected_dataset.csv\", index=False)\n",
    "\n",
    "print(\" Merge successful! Saved as 'final_corrected_dataset.csv'.\")\n"
   ]
  },
  {
   "cell_type": "code",
   "execution_count": null,
   "metadata": {},
   "outputs": [
    {
     "name": "stdout",
     "output_type": "stream",
     "text": [
      "Available columns: Index(['Unnamed: 0', 'link', 'artist', 'song_name', 'lyrics', 'sentiment',\n",
      "       'spotify_id', 'name', 'followers', 'popularity', 'genres',\n",
      "       'chart_hits'],\n",
      "      dtype='object')\n",
      "✅ Power BI dataset created! Saved as 'powerbi_dataset.csv'.\n"
     ]
    },
    {
     "name": "stderr",
     "output_type": "stream",
     "text": [
      "C:\\Users\\91799\\AppData\\Local\\Temp\\ipykernel_39092\\1936855625.py:18: SettingWithCopyWarning: \n",
      "A value is trying to be set on a copy of a slice from a DataFrame\n",
      "\n",
      "See the caveats in the documentation: https://pandas.pydata.org/pandas-docs/stable/user_guide/indexing.html#returning-a-view-versus-a-copy\n",
      "  df_powerbi.rename(columns={\n"
     ]
    }
   ],
   "source": [
    "# Load the final merged dataset\n",
    "file_path = \"final_corrected_dataset.csv\"  # Ensure this file is in the same directory\n",
    "df = pd.read_csv(file_path)\n",
    "\n",
    "# Print available columns (debugging)\n",
    "print(\"Available columns:\", df.columns)\n",
    "\n",
    "# Define the required columns for Power BI\n",
    "required_columns = [\"artist\", \"song_name\", \"sentiment\", \"followers\", \"popularity\", \"genres\", \"collaborator_id\"]\n",
    "\n",
    "# Keep only the columns that exist in the dataset\n",
    "existing_columns = [col for col in required_columns if col in df.columns]\n",
    "df_powerbi = df[existing_columns]\n",
    "\n",
    "# Rename columns for better readability in Power BI\n",
    "df_powerbi.rename(columns={\n",
    "    \"artist\": \"Artist\",\n",
    "    \"song_name\": \"Song\",\n",
    "    \"sentiment\": \"Sentiment\",\n",
    "    \"followers\": \"Followers\",\n",
    "    \"popularity\": \"Popularity\",\n",
    "    \"genres\": \"Genre\",\n",
    "    \"collaborator_id\": \"Collaborator\"\n",
    "}, inplace=True)\n",
    "\n",
    "# Save the dataset for Power BI\n",
    "pbix_file_path = \"powerbi_dataset.csv\"\n",
    "df_powerbi.to_csv(pbix_file_path, index=False)\n",
    "\n",
    "print(\" Power BI dataset created! Saved as 'powerbi_dataset.csv'.\")\n"
   ]
  },
  {
   "cell_type": "code",
   "execution_count": null,
   "metadata": {},
   "outputs": [],
   "source": []
  }
 ],
 "metadata": {
  "kernelspec": {
   "display_name": "Python 3",
   "language": "python",
   "name": "python3"
  },
  "language_info": {
   "codemirror_mode": {
    "name": "ipython",
    "version": 3
   },
   "file_extension": ".py",
   "mimetype": "text/x-python",
   "name": "python",
   "nbconvert_exporter": "python",
   "pygments_lexer": "ipython3",
   "version": "3.12.6"
  }
 },
 "nbformat": 4,
 "nbformat_minor": 2
}
