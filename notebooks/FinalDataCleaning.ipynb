{
 "cells": [
  {
   "cell_type": "code",
   "execution_count": null,
   "metadata": {},
   "outputs": [
    {
     "name": "stdout",
     "output_type": "stream",
     "text": [
      "Available columns in Power BI dataset: Index(['Artist', 'Song', 'Sentiment', 'Followers', 'Popularity', 'Genre'], dtype='object')\n",
      "Available columns in Lyrics dataset: Index(['Unnamed: 0', 'link', 'artist', 'song_name', 'lyrics'], dtype='object')\n",
      "✅ Successfully merged 32164 songs with lyrics.\n"
     ]
    },
    {
     "name": "stderr",
     "output_type": "stream",
     "text": [
      "C:\\Users\\91799\\AppData\\Local\\Temp\\ipykernel_33000\\647929544.py:70: FutureWarning: DataFrame.applymap has been deprecated. Use DataFrame.map instead.\n",
      "  df_merged = df_merged.applymap(lambda x: x.strip() if isinstance(x, str) else x)\n"
     ]
    },
    {
     "name": "stdout",
     "output_type": "stream",
     "text": [
      "✅ Data fully cleaned, genres fixed & lyrics added! Saved as 'powerbi_dataset_final_with_lyrics.csv'.\n"
     ]
    }
   ],
   "source": [
    "import pandas as pd\n",
    "import ast\n",
    "\n",
    "# Load datasets\n",
    "powerbi_path = \"powerbi_dataset.csv\"\n",
    "lyrics_path = \"song_lyrics.csv\"\n",
    "\n",
    "df_powerbi = pd.read_csv(powerbi_path)\n",
    "df_lyrics = pd.read_csv(lyrics_path)\n",
    "\n",
    "# Print column names for debugging\n",
    "print(\"Available columns in Power BI dataset:\", df_powerbi.columns)\n",
    "print(\"Available columns in Lyrics dataset:\", df_lyrics.columns)\n",
    "\n",
    "#  Rename columns in lyrics dataset to match Power BI dataset\n",
    "df_lyrics.rename(columns={\"artist\": \"Artist\", \"song_name\": \"Song\"}, inplace=True)\n",
    "\n",
    "#  Remove \"Lyrics\" suffix from artist names in `song_lyrics.csv`\n",
    "df_lyrics[\"Artist\"] = df_lyrics[\"Artist\"].str.replace(\" Lyrics\", \"\", regex=False).str.strip()\n",
    "\n",
    "#  Standardize text formatting to improve merging accuracy\n",
    "df_powerbi[\"Artist\"] = df_powerbi[\"Artist\"].str.lower().str.strip()\n",
    "df_powerbi[\"Song\"] = df_powerbi[\"Song\"].str.lower().str.strip()\n",
    "df_lyrics[\"Artist\"] = df_lyrics[\"Artist\"].str.lower().str.strip()\n",
    "df_lyrics[\"Song\"] = df_lyrics[\"Song\"].str.lower().str.strip()\n",
    "\n",
    "#  Perform Exact Merge on Artist & Song\n",
    "df_merged = df_powerbi.merge(df_lyrics[[\"Artist\", \"Song\", \"lyrics\"]], on=[\"Artist\", \"Song\"], how=\"left\")\n",
    "\n",
    "# 🔍 Check how many lyrics were successfully merged\n",
    "matched_lyrics = df_merged[\"lyrics\"].notna().sum()\n",
    "print(f\" Successfully merged {matched_lyrics} songs with lyrics.\")\n",
    "\n",
    "#  Fix Genre Column: Extract First Genre (or assign 'Other' if empty)\n",
    "df_merged[\"Genre\"] = df_merged[\"Genre\"].replace([\"\", \"[]\"], pd.NA)\n",
    "\n",
    "def extract_first_genre(Genre):\n",
    "    \"\"\"Extracts the full first genre or assigns 'Other' if empty.\"\"\"\n",
    "    if pd.isna(Genre):\n",
    "        return \"Other\"\n",
    "    try:\n",
    "        genre_list = ast.literal_eval(Genre)  # Convert string to list\n",
    "        if isinstance(genre_list, list) and len(genre_list) > 0:\n",
    "            return genre_list[0]  # Take full first genre\n",
    "    except (ValueError, SyntaxError):\n",
    "        return Genre  # Keep original if conversion fails\n",
    "    return \"Other\"\n",
    "\n",
    "df_merged[\"Genre\"] = df_merged[\"Genre\"].apply(extract_first_genre)\n",
    "\n",
    "#  Remove Duplicates\n",
    "if \"Artist\" in df_merged.columns and \"Song\" in df_merged.columns:\n",
    "    df_merged = df_merged.drop_duplicates(subset=[\"Artist\", \"Song\"], keep=\"first\")\n",
    "\n",
    "#  Convert Popularity & Followers to Numeric\n",
    "if \"popularity\" in df_merged.columns:\n",
    "    df_merged[\"popularity\"] = pd.to_numeric(df_merged[\"popularity\"], errors=\"coerce\").fillna(0)\n",
    "if \"followers\" in df_merged.columns:\n",
    "    df_merged[\"followers\"] = pd.to_numeric(df_merged[\"followers\"], errors=\"coerce\").fillna(0)\n",
    "\n",
    "#  Fill Missing Values\n",
    "df_merged = df_merged.fillna({\"followers\": 0, \"popularity\": 0})  # Numeric fields filled with 0\n",
    "df_merged = df_merged.fillna(\"Unknown\")  # Text fields filled with \"Unknown\"\n",
    "\n",
    "#  Standardize Sentiment Column (if exists)\n",
    "if \"sentiment\" in df_merged.columns:\n",
    "    df_merged[\"sentiment\"] = df_merged[\"sentiment\"].str.capitalize()\n",
    "\n",
    "#  Remove Extra Whitespaces\n",
    "df_merged = df_merged.applymap(lambda x: x.strip() if isinstance(x, str) else x)\n",
    "\n",
    "#  Save cleaned dataset with lyrics\n",
    "cleaned_file_path = \"powerbi_dataset_final_with_lyrics.csv\"\n",
    "df_merged.to_csv(cleaned_file_path, index=False)\n",
    "\n",
    "print(\" Data fully cleaned, genres fixed & lyrics added! Saved as 'powerbi_dataset_final_with_lyrics.csv'.\")\n"
   ]
  },
  {
   "cell_type": "code",
   "execution_count": null,
   "metadata": {},
   "outputs": [],
   "source": []
  }
 ],
 "metadata": {
  "kernelspec": {
   "display_name": "Python 3",
   "language": "python",
   "name": "python3"
  },
  "language_info": {
   "codemirror_mode": {
    "name": "ipython",
    "version": 3
   },
   "file_extension": ".py",
   "mimetype": "text/x-python",
   "name": "python",
   "nbconvert_exporter": "python",
   "pygments_lexer": "ipython3",
   "version": "3.12.6"
  }
 },
 "nbformat": 4,
 "nbformat_minor": 2
}
